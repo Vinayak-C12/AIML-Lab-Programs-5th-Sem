{
 "cells": [
  {
   "cell_type": "code",
   "execution_count": 1,
   "id": "9a553626",
   "metadata": {},
   "outputs": [
    {
     "name": "stdout",
     "output_type": "stream",
     "text": [
      "\n",
      "Enter a function of x: 10\n",
      "\n",
      "Enter the starting value to begin the search: 50\n",
      "The maxima is at x = 50.0\n",
      "The maximum value obtained is 10\n"
     ]
    }
   ],
   "source": [
    "import numpy as np\n",
    "\n",
    "def hill_climbing(func, start, step_size=0.01, max_iterations=1000):\n",
    "    current_position = start\n",
    "    current_value = func(current_position)\n",
    "    \n",
    "    for i in range(max_iterations):\n",
    "        next_position_positive = current_position + step_size\n",
    "        next_value_positive = func(next_position_positive)\n",
    "        \n",
    "        next_position_negative = current_position - step_size\n",
    "        next_value_negative = func(next_position_negative)\n",
    "        \n",
    "        if next_value_positive > current_value and next_value_positive >= next_value_negative:\n",
    "            current_position = next_position_positive\n",
    "            current_value = next_value_positive\n",
    "        elif next_value_negative > current_value and next_value_negative > next_value_positive:\n",
    "            current_position = next_position_negative\n",
    "            current_value = next_value_negative\n",
    "        else:\n",
    "            break\n",
    "    \n",
    "    return current_position, current_value\n",
    "\n",
    "# Get the function from the user\n",
    "while True:\n",
    "    func_str = input(\"\\nEnter a function of x: \")\n",
    "    try:\n",
    "        # Test the function with a dummy value\n",
    "        x = 0\n",
    "        eval(func_str)\n",
    "        break\n",
    "    except Exception as e:\n",
    "        print(f\"Invalid function. Please try again. Error: {e}\")\n",
    "\n",
    "# Convert the string into a function\n",
    "func = lambda x: eval(func_str)\n",
    "\n",
    "# Get the starting point from the user\n",
    "while True:\n",
    "    start_str = input(\"\\nEnter the starting value to begin the search: \")\n",
    "    try:\n",
    "        start = float(start_str)\n",
    "        break\n",
    "    except ValueError:\n",
    "        print(\"Invalid input. Please enter a number.\")\n",
    "\n",
    "maxima, max_value = hill_climbing(func, start)\n",
    "print(f\"The maxima is at x = {maxima}\")\n",
    "print(f\"The maximum value obtained is {max_value}\")"
   ]
  },
  {
   "cell_type": "code",
   "execution_count": null,
   "id": "72fed674",
   "metadata": {},
   "outputs": [],
   "source": []
  }
 ],
 "metadata": {
  "kernelspec": {
   "display_name": "Python 3 (ipykernel)",
   "language": "python",
   "name": "python3"
  },
  "language_info": {
   "codemirror_mode": {
    "name": "ipython",
    "version": 3
   },
   "file_extension": ".py",
   "mimetype": "text/x-python",
   "name": "python",
   "nbconvert_exporter": "python",
   "pygments_lexer": "ipython3",
   "version": "3.10.12"
  }
 },
 "nbformat": 4,
 "nbformat_minor": 5
}

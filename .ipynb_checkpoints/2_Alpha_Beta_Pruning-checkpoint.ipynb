{
 "cells": [
  {
   "cell_type": "code",
   "execution_count": 5,
   "metadata": {
    "colab": {
     "base_uri": "https://localhost:8080/"
    },
    "executionInfo": {
     "elapsed": 532,
     "status": "ok",
     "timestamp": 1704303436676,
     "user": {
      "displayName": "VINAYAK C",
      "userId": "06038245783910105865"
     },
     "user_tz": -330
    },
    "id": "WfTGtaPxYoIN",
    "outputId": "28cb3f78-70bf-41b8-8cc1-1869ae136c28"
   },
   "outputs": [
    {
     "name": "stdout",
     "output_type": "stream",
     "text": [
      "The optimal value is : 5\n"
     ]
    }
   ],
   "source": [
    "# Python3 program to demonstrate\n",
    "# working of Alpha-Beta Pruning\n",
    "\n",
    "# Initial values of Alpha and Beta\n",
    "MAX, MIN = 1000, -1000\n",
    "\n",
    "# Returns optimal value for current player\n",
    "#(Initially called for root and maximizer)\n",
    "def minimax(depth, nodeIndex, maximizingPlayer,\n",
    "            values, alpha, beta):\n",
    "\n",
    "    # Terminating condition. i.e\n",
    "    # leaf node is reached\n",
    "    if depth == 3:\n",
    "        return values[nodeIndex]\n",
    "\n",
    "    if maximizingPlayer:\n",
    "\n",
    "        best = MIN\n",
    "\n",
    "        # Recur for left and right children\n",
    "        for i in range(0, 2):\n",
    "\n",
    "            val = minimax(depth + 1, nodeIndex * 2 + i,\n",
    "                          False, values, alpha, beta)\n",
    "            best = max(best, val)\n",
    "            alpha = max(alpha, best)\n",
    "\n",
    "            # Alpha Beta Pruning\n",
    "            if beta <= alpha:\n",
    "                break\n",
    "\n",
    "        return best\n",
    "\n",
    "    else:\n",
    "        best = MAX\n",
    "\n",
    "        # Recur for left and\n",
    "        # right children\n",
    "        for i in range(0, 2):\n",
    "\n",
    "            val = minimax(depth + 1, nodeIndex * 2 + i,\n",
    "                            True, values, alpha, beta)\n",
    "            best = min(best, val)\n",
    "            beta = min(beta, best)\n",
    "\n",
    "            # Alpha Beta Pruning\n",
    "            if beta <= alpha:\n",
    "                break\n",
    "\n",
    "        return best\n",
    "\n",
    "# Driver Code\n",
    "if __name__ == \"__main__\":\n",
    "\n",
    "    values = [3, 5, 6, 9, 1, 2, 0, -1]\n",
    "    print(\"The optimal value is :\", minimax(0, 0, True, values, MIN, MAX))"
   ]
  }
 ],
 "metadata": {
  "colab": {
   "authorship_tag": "ABX9TyNgKm6RstXgWpzcnsOCFnUN",
   "provenance": []
  },
  "kernelspec": {
   "display_name": "Python 3 (ipykernel)",
   "language": "python",
   "name": "python3"
  },
  "language_info": {
   "codemirror_mode": {
    "name": "ipython",
    "version": 3
   },
   "file_extension": ".py",
   "mimetype": "text/x-python",
   "name": "python",
   "nbconvert_exporter": "python",
   "pygments_lexer": "ipython3",
   "version": "3.10.12"
  }
 },
 "nbformat": 4,
 "nbformat_minor": 1
}
